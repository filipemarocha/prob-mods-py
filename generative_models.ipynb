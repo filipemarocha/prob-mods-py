{
 "cells": [
  {
   "cell_type": "code",
   "execution_count": 26,
   "metadata": {},
   "outputs": [],
   "source": [
    "#Models, simulation, and degrees of belief\n",
    "\n",
    "from probmods import *"
   ]
  },
  {
   "cell_type": "code",
   "execution_count": 27,
   "metadata": {},
   "outputs": [
    {
     "name": "stdout",
     "output_type": "stream",
     "text": [
      "True\n",
      "[True, False, False, False, False, True, True, True, False, True]\n",
      "1\n",
      "[2, 3, 1, 2, 2, 3, 2, 0, 1, 0, 1, 1, 2, 2, 2, 3, 2, 1, 3, 2, 1, 0, 1, 1, 3, 1, 3, 3, 0, 3, 2, 2, 2, 2, 1, 2, 3, 2, 2, 1, 1, 0, 2, 1, 1, 0, 2, 1, 2, 2, 2, 1, 1, 1, 2, 1, 1, 0, 0, 2, 1, 2, 3, 3, 1, 1, 3, 1, 0, 1, 2, 2, 1, 3, 3, 1, 0, 1, 0, 3, 1, 2, 3, 1, 2, 3, 1, 1, 3, 1, 1, 1, 3, 2, 2, 0, 1, 1, 2, 1]\n",
      "6\n"
     ]
    }
   ],
   "source": [
    "#Building Generative Models\n",
    "\n",
    "print(flip())\n",
    "\n",
    "print(repeat(10, flip))\n",
    "\n",
    "print(flip() + flip() + flip())\n",
    "\n",
    "def sum_flips():\n",
    "    return flip() + flip() + flip()\n",
    "\n",
    "\n",
    "def noisy_double(x):\n",
    "    return x+x if flip() else x\n",
    "\n",
    "\n",
    "print(repeat(100, sum_flips))\n",
    "\n",
    "\n",
    "print(noisy_double(3))"
   ]
  },
  {
   "cell_type": "code",
   "execution_count": 28,
   "metadata": {},
   "outputs": [
    {
     "name": "stdout",
     "output_type": "stream",
     "text": [
      "['t', 'h', 'h', 't', 'h', 'h', 't', 't', 't', 'h', 'h', 't', 'h', 't', 'h', 'h', 'h', 'h', 't', 't']\n",
      "['h', 'h', 'h', 'h', 'h', 'h', 'h', 'h', 'h', 'h', 'h', 'h', 'h', 'h', 'h', 'h', 'h', 'h', 'h', 'h']\n",
      "['h', 't', 't', 'h', 't', 't', 't', 'h', 'h', 't', 't', 'h', 'h', 'h', 't', 't', 'h', 't', 't', 'h']\n",
      "['h', 'h', 't', 'h', 'h', 'h', 'h', 'h', 'h', 'h', 'h', 'h', 'h', 'h', 'h', 'h', 'h', 'h', 'h', 'h']\n",
      "['h', 't', 't', 't', 't', 't', 't', 't', 'h', 't', 'h', 'h', 't', 't', 't', 'h', 't', 't', 't', 't']\n",
      "['h', 'h', 'h', 't', 't', 't', 'h', 'h', 't', 'h']\n"
     ]
    }
   ],
   "source": [
    "#Example: Flipping Coins\n",
    "\n",
    "def fair_coin():\n",
    "    return 'h' if flip(0.5) else 't'\n",
    "\n",
    "\n",
    "print(repeat(20, fair_coin))\n",
    "\n",
    "\n",
    "def trick_coin():\n",
    "    return 'h' if flip(0.95) else 't'\n",
    "\n",
    "\n",
    "print(repeat(20, trick_coin))\n",
    "\n",
    "\n",
    "def make_coin(weight):\n",
    "    return lambda: 'h' if flip(weight) else 't'\n",
    "\n",
    "\n",
    "fairCoin = make_coin(0.5)\n",
    "trickCoin = make_coin(0.95)\n",
    "bentCoin = make_coin(0.25)\n",
    "\n",
    "print(repeat(20, fairCoin))\n",
    "print(repeat(20, trickCoin))\n",
    "print(repeat(20, bentCoin))\n",
    "\n",
    "\n",
    "def bend(coin):\n",
    "    return lambda: make_coin(0.7)() if coin() == 'h' else make_coin(0.1)()\n",
    "\n",
    "\n",
    "fairCoin = make_coin(0.5)\n",
    "bentCoin = bend(fairCoin)\n",
    "print(repeat(10, bentCoin))"
   ]
  },
  {
   "cell_type": "code",
   "execution_count": 29,
   "metadata": {},
   "outputs": [
    {
     "name": "stdout",
     "output_type": "stream",
     "text": [
      "False\n",
      "{'cough': True, 'fever': False, 'chestPain': False, 'shortnessOfBreath': False}\n"
     ]
    }
   ],
   "source": [
    "#Example: Causal Models in Medical Diagnosis\n",
    "\n",
    "lungCancer = flip(0.01)\n",
    "cold = flip(0.2)\n",
    "cough = cold | lungCancer\n",
    "print(cough)\n",
    "\n",
    "# More complex:\n",
    "lungCancer = flip(0.01)\n",
    "TB = flip(0.005)\n",
    "stomachFlu = flip(0.1)\n",
    "cold = flip(0.2)\n",
    "other = flip(0.1)\n",
    "\n",
    "cough = (\n",
    "    (cold & flip(0.5)) |\n",
    "    (lungCancer & flip(0.3)) |\n",
    "    (TB & flip(0.7)) |\n",
    "    (other & flip(0.01)))\n",
    "\n",
    "fever = (\n",
    "    (cold & flip(0.3)) |\n",
    "    (stomachFlu & flip(0.5)) |\n",
    "    (TB & flip(0.1)) |\n",
    "    (other & flip(0.01)))\n",
    "\n",
    "chestPain = (\n",
    "    (lungCancer & flip(0.5)) |\n",
    "    (TB & flip(0.5)) |\n",
    "    (other & flip(0.01)))\n",
    "\n",
    "shortnessOfBreath = (\n",
    "    (lungCancer & flip(0.5)) |\n",
    "    (TB & flip(0.2)) |\n",
    "    (other & flip(0.01)))\n",
    "\n",
    "symptoms = {\n",
    "  'cough': cough,\n",
    "  'fever': fever,\n",
    "  'chestPain': chestPain,\n",
    "  'shortnessOfBreath': shortnessOfBreath}\n",
    "\n",
    "print(symptoms)"
   ]
  },
  {
   "cell_type": "code",
   "execution_count": 30,
   "metadata": {},
   "outputs": [
    {
     "name": "stdout",
     "output_type": "stream",
     "text": [
      "[False, False]\n"
     ]
    },
    {
     "data": {
      "text/plain": [
       "[[True, True],\n",
       " [False, True],\n",
       " [True, True],\n",
       " [False, False],\n",
       " [False, False],\n",
       " [False, True],\n",
       " [False, False],\n",
       " [True, False],\n",
       " [True, True],\n",
       " [True, False]]"
      ]
     },
     "execution_count": 30,
     "metadata": {},
     "output_type": "execute_result"
    }
   ],
   "source": [
    "#Prediction, Simulation, and Probabilities\n",
    "\n",
    "print([flip(), flip()])\n",
    "\n",
    "def random_pair():\n",
    "    return [flip(), flip()]\n",
    "\n",
    "\n",
    "repeat(10, random_pair)"
   ]
  },
  {
   "cell_type": "code",
   "execution_count": 31,
   "metadata": {},
   "outputs": [
    {
     "name": "stdout",
     "output_type": "stream",
     "text": [
      "-0.6931471805599453\n",
      "True\n",
      "-0.9294073775656396\n",
      "0.10311081109198142\n",
      "-0.05630747484361969\n"
     ]
    }
   ],
   "source": [
    "#Distributions in WebPPL\n",
    "\n",
    "b = Bernoulli({'p':0.5})\n",
    "print(b.score(True))\n",
    "print(b.sample())\n",
    "\n",
    "g = Gaussian({'mu': 0, 'sigma': 1})\n",
    "print(g.sample())\n",
    "print(g.score(-1.645))\n",
    "\n",
    "def foo():\n",
    "    return gaussian(0,1)*gaussian(0,1)\n",
    "\n",
    "print(foo())"
   ]
  },
  {
   "cell_type": "code",
   "execution_count": 32,
   "metadata": {},
   "outputs": [
    {
     "name": "stdout",
     "output_type": "stream",
     "text": [
      "1.3931720660647664\n"
     ]
    },
    {
     "data": {
      "image/png": "[encoded data removed]",
      "text/plain": [
       "<Figure size 432x288 with 1 Axes>"
      ]
     },
     "metadata": {},
     "output_type": "display_data"
    }
   ],
   "source": [
    "#Constructing marginal distributions: Infer\n",
    "\n",
    "d = Infer({'method': 'forward', 'samples': 1000}, lambda: gaussian(0, 1)*gaussian(0, 1))\n",
    "print(d.sample())\n",
    "d.viz()"
   ]
  },
  {
   "cell_type": "code",
   "execution_count": 33,
   "metadata": {},
   "outputs": [
    {
     "name": "stdout",
     "output_type": "stream",
     "text": [
      "[False, False]\n",
      "[False, True]\n"
     ]
    }
   ],
   "source": [
    "#The rules of probability\n",
    "\n",
    "#Product Rule\n",
    "\n",
    "A = flip()\n",
    "B = flip()\n",
    "C = [A, B]\n",
    "print(C)\n",
    "\n",
    "A = flip()\n",
    "B = flip((0.3 if A else 0.7))\n",
    "print([A, B])"
   ]
  },
  {
   "cell_type": "code",
   "execution_count": 34,
   "metadata": {},
   "outputs": [
    {
     "name": "stdout",
     "output_type": "stream",
     "text": [
      "True\n"
     ]
    }
   ],
   "source": [
    "#Sum Rule\n",
    "\n",
    "print(flip() | flip())"
   ]
  },
  {
   "cell_type": "code",
   "execution_count": 35,
   "metadata": {},
   "outputs": [
    {
     "data": {
      "image/png": "[encoded data removed]",
      "text/plain": [
       "<Figure size 432x288 with 1 Axes>"
      ]
     },
     "metadata": {},
     "output_type": "display_data"
    }
   ],
   "source": [
    "#Stochastic recursion\n",
    "\n",
    "def geometric(p):\n",
    "    return 0 if flip(p) else 1 + geometric(p)\n",
    "\n",
    "g = Infer({'method': 'forward', 'samples': 1000}, lambda: geometric(0.6))\n",
    "\n",
    "g.viz()"
   ]
  },
  {
   "cell_type": "code",
   "execution_count": 36,
   "metadata": {},
   "outputs": [
    {
     "name": "stdout",
     "output_type": "stream",
     "text": [
      "False\n",
      "True\n",
      "['blue', 'brown', 'blue']\n"
     ]
    },
    {
     "data": {
      "text/plain": [
       "[[False, True, False, False], [False, True, False, False]]"
      ]
     },
     "execution_count": 36,
     "metadata": {},
     "output_type": "execute_result"
    }
   ],
   "source": [
    "#Persistent Randomness: mem\n",
    "\n",
    "def eyeColor(person):\n",
    "    return uniformDraw(['blue', 'green', 'brown'])\n",
    "\n",
    "print(flip() == flip())\n",
    "\n",
    "memFlip = mem(flip)\n",
    "print(memFlip() == memFlip())\n",
    "\n",
    "memEyeColor = mem(eyeColor)\n",
    "\n",
    "print([memEyeColor('bob'), memEyeColor('alice'), memEyeColor('bob')])\n",
    "\n",
    "@mem\n",
    "def flipAlot(n):\n",
    "    return flip()\n",
    "\n",
    "[[flipAlot(1), flipAlot(12), flipAlot(47), flipAlot(1548)],\n",
    "    [flipAlot(1), flipAlot(12), flipAlot(47), flipAlot(1548)]]"
   ]
  },
  {
   "cell_type": "code",
   "execution_count": 37,
   "metadata": {},
   "outputs": [],
   "source": [
    "#Example: Intuitive physics\n",
    "#TODO"
   ]
  }
 ],
 "metadata": {
  "kernelspec": {
   "display_name": "Python 3",
   "language": "python",
   "name": "python3"
  },
  "language_info": {
   "codemirror_mode": {
    "name": "ipython",
    "version": 3
   },
   "file_extension": ".py",
   "mimetype": "text/x-python",
   "name": "python",
   "nbconvert_exporter": "python",
   "pygments_lexer": "ipython3",
   "version": "3.6.5"
  }
 },
 "nbformat": 4,
 "nbformat_minor": 2
}
